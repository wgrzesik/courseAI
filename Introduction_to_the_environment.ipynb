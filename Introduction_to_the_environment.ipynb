{
  "nbformat": 4,
  "nbformat_minor": 0,
  "metadata": {
    "colab": {
      "provenance": [],
      "include_colab_link": true
    },
    "kernelspec": {
      "name": "python3",
      "display_name": "Python 3"
    },
    "language_info": {
      "name": "python"
    }
  },
  "cells": [
    {
      "cell_type": "markdown",
      "metadata": {
        "id": "view-in-github",
        "colab_type": "text"
      },
      "source": [
        "<a href=\"https://colab.research.google.com/github/wgrzesik/courseAI/blob/master/Introduction_to_the_environment.ipynb\" target=\"_parent\"><img src=\"https://colab.research.google.com/assets/colab-badge.svg\" alt=\"Open In Colab\"/></a>"
      ]
    },
    {
      "cell_type": "markdown",
      "source": [
        "# The basic elements of the Python language\n",
        "*In this chapter we will introduce the basic elements of Python language syntax*.\n",
        "\n",
        "[Python Documentation](https://www.python.org/)\n",
        "\n",
        "# The elements discussed\n",
        "\n",
        "---\n",
        "1. Variables\n",
        "\n",
        "---\n",
        "2. Lists\n",
        "\n",
        "---\n",
        "3. Loops\n",
        "\n",
        "---\n",
        "4. Dictionaries and tuples\n",
        "\n",
        "---\n",
        "5. Conditional instructions\n",
        "\n",
        "---\n",
        "6. Functions\n",
        "\n",
        "---\n",
        "7. File handling\n",
        "\n",
        "---\n",
        "8. Exception handling\n",
        "\n",
        "---\n",
        "\n",
        "\n",
        "\n",
        "\n"
      ],
      "metadata": {
        "id": "1LUfojVsGPxl"
      }
    },
    {
      "cell_type": "markdown",
      "source": [
        "### Git Support"
      ],
      "metadata": {
        "id": "rHjrzftnKSvk"
      }
    },
    {
      "cell_type": "code",
      "source": [
        "!git init\n",
        "!git config --global user.name \"YourName\"\n",
        "!git config --global user.email \"your@email.com\""
      ],
      "metadata": {
        "id": "BEP1Vl45KgSr"
      },
      "execution_count": null,
      "outputs": []
    },
    {
      "cell_type": "code",
      "source": [
        "!git add ."
      ],
      "metadata": {
        "id": "W9YuiAifKSpH"
      },
      "execution_count": null,
      "outputs": []
    },
    {
      "cell_type": "code",
      "source": [
        "!git commit -m \"initialize project\""
      ],
      "metadata": {
        "id": "aOiNFjGbKnO3",
        "collapsed": true
      },
      "execution_count": null,
      "outputs": []
    },
    {
      "cell_type": "code",
      "source": [
        "!git branch -M main"
      ],
      "metadata": {
        "id": "temjvYa7LBNV"
      },
      "execution_count": null,
      "outputs": []
    },
    {
      "cell_type": "code",
      "source": [
        "!git remote add origin https://<PAT>@github.com/<user name>/<repository name>.git"
      ],
      "metadata": {
        "id": "WN35wouz_I38"
      },
      "execution_count": null,
      "outputs": []
    },
    {
      "cell_type": "code",
      "source": [
        "!git push -u origin main\n"
      ],
      "metadata": {
        "id": "jS1FVYATLImc"
      },
      "execution_count": null,
      "outputs": []
    },
    {
      "cell_type": "code",
      "source": [
        "! git pull origin main"
      ],
      "metadata": {
        "id": "Yekb4UhNZEdq"
      },
      "execution_count": null,
      "outputs": []
    },
    {
      "cell_type": "markdown",
      "source": [
        "### Variables\n"
      ],
      "metadata": {
        "id": "b1ZVYLAoe0Qq"
      }
    },
    {
      "cell_type": "code",
      "execution_count": null,
      "metadata": {
        "id": "FNv4tixm80Kc",
        "colab": {
          "base_uri": "https://localhost:8080/"
        },
        "outputId": "421eaea0-f624-405b-e3ec-b5b4cd644e36"
      },
      "outputs": [
        {
          "output_type": "stream",
          "name": "stdout",
          "text": [
            "number: 6, floating point number: 8.9, subtitle: Text, logical variable False\n",
            "The variable number is of type <class 'int'>\n"
          ]
        }
      ],
      "source": [
        "number = 6\n",
        "floating_point = 8.9\n",
        "subtitle = \"Text\"\n",
        "logical = False\n",
        "mark = 'f'\n",
        "print(f\"number: {number}, floating point number: {floating_point}, subtitle: {subtitle}, logical variable {logical}\")\n",
        "print(f\"The variable number is of type {type(number)}\")"
      ]
    },
    {
      "cell_type": "code",
      "source": [
        "number = \"six\"\n",
        "print(f\"The variable number is of type {type(number)}\")"
      ],
      "metadata": {
        "id": "LF219nZ4evsF",
        "colab": {
          "base_uri": "https://localhost:8080/"
        },
        "outputId": "ef82b6bd-1622-4b0c-e46b-d84bf3164b96"
      },
      "execution_count": null,
      "outputs": [
        {
          "output_type": "stream",
          "name": "stdout",
          "text": [
            "The variable number is of type <class 'str'>\n"
          ]
        }
      ]
    },
    {
      "cell_type": "markdown",
      "source": [
        "### Lists"
      ],
      "metadata": {
        "id": "4Vj6Sb1hkABM"
      }
    },
    {
      "cell_type": "code",
      "source": [
        "#create lists\n",
        "games = ['fortnite', 'minecraft', 'roblox']\n",
        "list_mix = [1, 'minecraft', 2, 'roblox']\n",
        "\n",
        "#display lists\n",
        "print(games)\n",
        "print(list_mix)\n",
        "\n",
        "#reference to the first element of the list\n",
        "print(f\"first element of the game list {games[0]}\")\n",
        "\n",
        "#add an item to the list\n",
        "games.append('cs')\n",
        "print(games)"
      ],
      "metadata": {
        "id": "siqKGkTtkgfb",
        "colab": {
          "base_uri": "https://localhost:8080/"
        },
        "outputId": "dde9df75-4606-4f6b-e41f-7b5ac415e64a"
      },
      "execution_count": null,
      "outputs": [
        {
          "output_type": "stream",
          "name": "stdout",
          "text": [
            "['fortnite', 'minecraft', 'roblox']\n",
            "[1, 'minecraft', 2, 'roblox']\n",
            "first element of the game list fortnite\n",
            "['fortnite', 'minecraft', 'roblox', 'cs']\n"
          ]
        }
      ]
    },
    {
      "cell_type": "markdown",
      "source": [
        "### Loops"
      ],
      "metadata": {
        "id": "Dl6fq0uakitN"
      }
    },
    {
      "cell_type": "code",
      "source": [
        "#while loop\n",
        "counter = 0\n",
        "\n",
        "print(\"A while loop counting up to 5\")\n",
        "while counter <= 5:\n",
        "  print(counter)\n",
        "  counter += 1\n",
        "\n",
        "print(\"A for loop counting up to 5\")\n",
        "for counter in range(6):\n",
        "  print(counter)\n",
        "\n",
        "print(\"A for loop counting from 5 to 10\")\n",
        "for counter in range(5,11):\n",
        "  print(counter)\n",
        "\n",
        "print(\"A for loop counting up to 10 with even numbers only\")\n",
        "for counter in range(0,11,2):\n",
        "  print(counter)\n",
        "\n",
        "print(\"Loop going through the game list items\")\n",
        "for game in games:\n",
        "  print(game)"
      ],
      "metadata": {
        "id": "09f6lN62kmh_",
        "colab": {
          "base_uri": "https://localhost:8080/"
        },
        "outputId": "33a9fde6-6309-4fde-cf71-1a0f48396219"
      },
      "execution_count": null,
      "outputs": [
        {
          "output_type": "stream",
          "name": "stdout",
          "text": [
            "A while loop counting up to 5\n",
            "0\n",
            "1\n",
            "2\n",
            "3\n",
            "4\n",
            "5\n",
            "A for loop counting up to 5\n",
            "0\n",
            "1\n",
            "2\n",
            "3\n",
            "4\n",
            "5\n",
            "A for loop counting from 5 to 10\n",
            "5\n",
            "6\n",
            "7\n",
            "8\n",
            "9\n",
            "10\n",
            "A for loop counting up to 10 with even numbers only\n",
            "0\n",
            "2\n",
            "4\n",
            "6\n",
            "8\n",
            "10\n",
            "Loop going through the game list items\n",
            "fortnite\n",
            "minecraft\n",
            "roblox\n",
            "cs\n"
          ]
        }
      ]
    },
    {
      "cell_type": "markdown",
      "source": [
        "### Dictionaries and tuples"
      ],
      "metadata": {
        "id": "Q_E8sUAHknAz"
      }
    },
    {
      "cell_type": "code",
      "source": [
        "dictionary = {'cat' : 'gato',\n",
        "           'dog': 'perro',\n",
        "           'snake': 'serpiente'}\n",
        "\n",
        "print(dictionary['cat'])\n",
        "\n",
        "print(\"Dictionary keys\")\n",
        "for key in dictionary.keys():\n",
        "  print(key)\n",
        "\n",
        "print(\"Dictionary values\")\n",
        "for value in dictionary.values():\n",
        "  print(value)\n",
        "\n",
        "print(\"Tuple\")\n",
        "coordianates = (2,7)\n",
        "print(f'First coordinate {coordianates[0]}, second coordinate {coordianates[1]}')"
      ],
      "metadata": {
        "id": "GRvyaOTelUo0",
        "colab": {
          "base_uri": "https://localhost:8080/"
        },
        "outputId": "b5eef094-cfa6-42ab-c6c4-1b69d2ffdc39"
      },
      "execution_count": null,
      "outputs": [
        {
          "output_type": "stream",
          "name": "stdout",
          "text": [
            "gato\n",
            "Dictionary keys\n",
            "cat\n",
            "dog\n",
            "snake\n",
            "Dictionary values\n",
            "gato\n",
            "perro\n",
            "serpiente\n",
            "Tuple\n",
            "First coordinate 2, second coordinate 7\n"
          ]
        }
      ]
    },
    {
      "cell_type": "markdown",
      "source": [
        "### Conditional instructions"
      ],
      "metadata": {
        "id": "d72vS7MglU8b"
      }
    },
    {
      "cell_type": "code",
      "source": [
        "#Intelligent Heater\n",
        "temperature = float(input(\"Enter temperature: \"))\n",
        "\n",
        "if temperature < 20:\n",
        "  print(\"I'm raising the temperature\")\n",
        "elif temperature > 25:\n",
        "  print(\"I'm lowering the temperature\")\n",
        "else:\n",
        "  print(\"Temperature is normal\")"
      ],
      "metadata": {
        "id": "oONZ6-4RlegD",
        "colab": {
          "base_uri": "https://localhost:8080/"
        },
        "outputId": "a3af4a2d-9018-47b9-fa0b-08b0134680ca"
      },
      "execution_count": null,
      "outputs": [
        {
          "output_type": "stream",
          "name": "stdout",
          "text": [
            "Enter temperature: 22\n",
            "Temperature is normal\n"
          ]
        }
      ]
    },
    {
      "cell_type": "markdown",
      "source": [
        "### Functions"
      ],
      "metadata": {
        "id": "EnVLQOiUlezP"
      }
    },
    {
      "cell_type": "code",
      "source": [
        "#function definition\n",
        "def add(a, b):\n",
        "  return a + b\n",
        "print(add(2,3))\n",
        "\n",
        "#definition of a function with a default argument\n",
        "def add(a, b = 5):\n",
        "  return a + b\n",
        "print(add(2,3))\n",
        "print(add(2))\n",
        "\n",
        "#calling a function with a named argument\n",
        "def add(a, b):\n",
        "  return 2*a + b\n",
        "print(add(a=2, b = 3))\n",
        "print(add(b = 2, a = 3))"
      ],
      "metadata": {
        "id": "IeWwQocjlj68",
        "colab": {
          "base_uri": "https://localhost:8080/"
        },
        "outputId": "f5ff555a-896d-4aa8-8784-0322a5e26acc"
      },
      "execution_count": null,
      "outputs": [
        {
          "output_type": "stream",
          "name": "stdout",
          "text": [
            "5\n",
            "5\n",
            "7\n",
            "7\n",
            "8\n"
          ]
        }
      ]
    },
    {
      "cell_type": "markdown",
      "source": [
        "### File handling"
      ],
      "metadata": {
        "id": "r4t_nQUxllG_"
      }
    },
    {
      "cell_type": "code",
      "source": [
        "#read from file\n",
        "with open('data.txt','r') as file:\n",
        "  for line in file:\n",
        "    print(line)\n",
        "\n",
        "#adding to file\n",
        "with open('data.txt','a') as file:\n",
        "  file.write('\\nLUA')\n",
        "\n",
        "#save to file (saving to a new file).\n",
        "with open('data2.txt','w') as file:\n",
        "  file.write('I like pancakes')"
      ],
      "metadata": {
        "id": "6iA7hCc6lo-_",
        "colab": {
          "base_uri": "https://localhost:8080/"
        },
        "outputId": "3e459230-58fd-4a29-ff4b-2b9e02f5bdab"
      },
      "execution_count": null,
      "outputs": [
        {
          "output_type": "stream",
          "name": "stdout",
          "text": [
            "minecraft\n",
            "\n",
            "cs\n",
            "\n",
            "fortnite\n"
          ]
        }
      ]
    },
    {
      "cell_type": "markdown",
      "source": [
        "### Exception handling"
      ],
      "metadata": {
        "id": "AYemQA1rlpRl"
      }
    },
    {
      "cell_type": "code",
      "source": [
        "try:\n",
        "  dividend = float(input(\"Enter the dividend: \"))\n",
        "  divisor = float(input(\"Enter the divisor: \"))\n",
        "  result = dividend / divisor\n",
        "except Exception as e:\n",
        "  print(f\"Error: {e}\")\n",
        "else:\n",
        "  print(f\"{dividend}/{divisor} is {result}\")\n",
        "finally:\n",
        "  print(\"End of program\")\n"
      ],
      "metadata": {
        "id": "vtTwivEMl0qI",
        "colab": {
          "base_uri": "https://localhost:8080/"
        },
        "outputId": "0cd92c45-fc68-4838-a00f-4b64b11a1f61"
      },
      "execution_count": null,
      "outputs": [
        {
          "output_type": "stream",
          "name": "stdout",
          "text": [
            "Enter the dividend: 4\n",
            "Enter the divisor: 3\n",
            "4.0/3.0 is 1.3333333333333333\n",
            "End of program\n"
          ]
        }
      ]
    },
    {
      "cell_type": "code",
      "source": [
        "!git add .\n",
        "!git commit -m \"Comment on what has been changed in the project\"\n",
        "! git push origin main"
      ],
      "metadata": {
        "id": "5GJ0niA-dYnh",
        "colab": {
          "base_uri": "https://localhost:8080/"
        },
        "outputId": "3c2dd6da-831e-4097-b384-4b246b2e3c97"
      },
      "execution_count": null,
      "outputs": [
        {
          "output_type": "stream",
          "name": "stdout",
          "text": [
            "fatal: not a git repository (or any of the parent directories): .git\n",
            "fatal: not a git repository (or any of the parent directories): .git\n",
            "fatal: not a git repository (or any of the parent directories): .git\n"
          ]
        }
      ]
    },
    {
      "cell_type": "code",
      "source": [
        "#Additional Task 1\n",
        "def is_valid_triangle(a,b,c):\n",
        "  if min(a,b,c) <= 0:\n",
        "    raise Exception(\"The lengths of the sides of the triangle must be non-zero\")\n",
        "\n",
        "  if 2*max(a,b,c) >= sum([a,b,c]):\n",
        "    print(\"A triangle cannot be formed\")\n",
        "  else:\n",
        "    print(\"A triangle can be formed\")\n",
        "\n",
        "def oneline_valid_triangle(a,b,c):\n",
        "  print(\"A triangle can be formed\" if min(a,b,c) > 0 and 2*max(a,b,c) < sum([a,b,c]) else \"A triangle cannot be formed\")\n",
        "\n",
        "a = float(input(\"Enter the length of side a: \"))\n",
        "b = float(input(\"Enter the length of side b: \"))\n",
        "c = float(input(\"Enter the length of side c: \"))\n",
        "oneline_valid_triangle(a,b,c)"
      ],
      "metadata": {
        "colab": {
          "base_uri": "https://localhost:8080/"
        },
        "id": "wyOoHbiq_FdP",
        "outputId": "bae38801-f0e4-41f3-e064-e7ff989946e8"
      },
      "execution_count": null,
      "outputs": [
        {
          "output_type": "stream",
          "name": "stdout",
          "text": [
            "Enter the length of side a: 10\n",
            "Enter the length of side b: 5\n",
            "Enter the length of side c: 5\n",
            "A triangle cannot be formed\n"
          ]
        }
      ]
    },
    {
      "cell_type": "code",
      "source": [
        "#Additional Task 2\n",
        "lists = [x **2 for x in range(2,11,2)] + ([x **(1/2) for x in range(11,20,2)])\n",
        "print(lists)"
      ],
      "metadata": {
        "colab": {
          "base_uri": "https://localhost:8080/"
        },
        "id": "STbCPkE5CHX6",
        "outputId": "2a3cbc61-8ad5-43b1-d13d-3b267d0c25d3"
      },
      "execution_count": null,
      "outputs": [
        {
          "output_type": "stream",
          "name": "stdout",
          "text": [
            "[4, 16, 36, 64, 100, 3.3166247903554, 3.605551275463989, 3.872983346207417, 4.123105625617661, 4.358898943540674]\n"
          ]
        }
      ]
    },
    {
      "cell_type": "code",
      "source": [
        "#Additional Task 3\n",
        "list = [1,1,1,1,2,2,3,4,4,4,4,4,4,4,5,5,6]\n",
        "unique_values = set(list)\n",
        "dictionary = {}\n",
        "\n",
        "for unique_value in unique_values:\n",
        "  occurrences = list.count(unique_value)\n",
        "  dictionary.setdefault(unique_value, occurrences)\n",
        "\n",
        "print(dictionary)"
      ],
      "metadata": {
        "colab": {
          "base_uri": "https://localhost:8080/"
        },
        "id": "-WjzeIGED-Px",
        "outputId": "70e4b382-aff5-4b7a-8c70-a55719ca3cdf"
      },
      "execution_count": null,
      "outputs": [
        {
          "output_type": "stream",
          "name": "stdout",
          "text": [
            "{1: 4, 2: 2, 3: 1, 4: 7, 5: 2, 6: 1}\n"
          ]
        }
      ]
    }
  ]
}